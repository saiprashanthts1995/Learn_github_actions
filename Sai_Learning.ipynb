{
  "nbformat": 4,
  "nbformat_minor": 0,
  "metadata": {
    "colab": {
      "name": "Sai Learning.ipynb",
      "provenance": [],
      "authorship_tag": "ABX9TyNPSvwvWmo8rspvrzWMIsVG",
      "include_colab_link": true
    },
    "kernelspec": {
      "name": "python3",
      "display_name": "Python 3"
    },
    "language_info": {
      "name": "python"
    }
  },
  "cells": [
    {
      "cell_type": "markdown",
      "metadata": {
        "id": "view-in-github",
        "colab_type": "text"
      },
      "source": [
        "<a href=\"https://colab.research.google.com/github/saiprashanthts1995/Learn_github_actions/blob/main/Sai_Learning.ipynb\" target=\"_parent\"><img src=\"https://colab.research.google.com/assets/colab-badge.svg\" alt=\"Open In Colab\"/></a>"
      ]
    },
    {
      "cell_type": "code",
      "execution_count": 189,
      "metadata": {
        "colab": {
          "base_uri": "https://localhost:8080/"
        },
        "id": "rmIyGt4Qnmqp",
        "outputId": "58a0b10c-7f7f-49fb-d787-2d46001b1775"
      },
      "outputs": [
        {
          "output_type": "stream",
          "name": "stdout",
          "text": [
            "abcabcabc\n",
            "True\n",
            "True\n",
            "True\n",
            "True\n",
            "True\n",
            "True\n",
            "True\n",
            "['a', 'b', 'c', 'd', 'a', 'a']\n",
            "['a', 'abcd', 'b', 'c', 'd', 'a', 'a']\n",
            "1\n",
            "3\n",
            "a\n",
            "d\n",
            "a,b,c,d\n",
            "1,2,3,4\n",
            "{1}\n",
            "{1, 2}\n",
            "{2}\n",
            "['a', 'b']\n",
            "['apple', 'ball']\n",
            "[('a', 'apple'), ('b', 'ball')]\n",
            "a apple\n",
            "b ball\n",
            "True\n"
          ]
        }
      ],
      "source": [
        "# Basic Python\n",
        "\n",
        "## Strings\n",
        "print('abc'*3) # abcabcabc\n",
        "print('abc'.islower()) # true\n",
        "print('ABC'.isupper()) # true\n",
        "print('123'.isdigit()) #true\n",
        "print('ABC'.isalpha()) # true\n",
        "print('ABc123'.isalnum()) # true\n",
        "print('ancdef'.startswith('a')) # True\n",
        "print('abcdefg'.endswith('fg')) #True\n",
        "\n",
        "## List\n",
        "l = [] # Empty list\n",
        "l = list() # empty list\n",
        "l = 'a,b,c,d,a,a'.split(',') \n",
        "print(l)\n",
        "l.insert(1,'abcd') # first argument position and second argument is the value\n",
        "print(l)\n",
        "print(l.index('abcd')) # returns the index position 1\n",
        "print(l.count('a')) # Returns the count of the element 'a' = 3\n",
        "print(min(l)) # returns the miniumn based on ascii if it is a character --> a\n",
        "print(max(l)) # returns the max based on ascii if it is character --> d\n",
        "# print(sum(l)) --> if the elements are int or float then it returns the sum, for string it rreturns error\n",
        "print(','.join(['a', 'b', 'c', 'd'])) # converts list to a string based on the delimiter # a,b,c,d\n",
        "print(','.join([str(i) for i in  [1, 2, 3, 4]]))\n",
        "\n",
        "## set\n",
        "a = set() # Empty set\n",
        "list1 = list(set([1,2,2,3]))\n",
        "a.add(1)\n",
        "a.add(2)\n",
        "b = set()\n",
        "b.add(2)\n",
        "print(a.difference(b)) # a-b\n",
        "print(a.union(b)) # a+b and removes the duplicate\n",
        "print(a.intersection(b)) # common element\n",
        "\n",
        "## Dictionary\n",
        "d = dict()\n",
        "d = {'a': 'apple', 'b': 'ball'}\n",
        "print(list(d.keys()))  # Print keys\n",
        "print(list(d.values())) # Print values\n",
        "print(list(d.items())) # print list of (key,value) tuples\n",
        "for k,v in d.items():\n",
        "  print(k,v)\n",
        "print('a' in d) # to check if a key is present in a dictionary\n",
        "# dictionary keys must be immutable"
      ]
    },
    {
      "cell_type": "code",
      "source": [
        "# enumerate\n",
        "l = 'a,b'.split(',')\n",
        "for i, e in enumerate(l):\n",
        "  print(i)  # index\n",
        "  print(e) # element value\n",
        "\n",
        "# *args, **kwargs\n",
        "\n",
        "def func(*args, **kwargs):\n",
        "  print(args) # prints ('a','b','c')\n",
        "  print(kwargs) # prints {'input':'a', 'output' :'b'}\n",
        "\n",
        "print(func('a','b','c',input='a', output='b'))\n",
        "\n",
        "l = [1,2,3,4,5,6,7,8]\n",
        "iterator = iter(l)\n",
        "print(next(iterator)) # value print\n",
        "print('here')\n",
        "for i in iterator:\n",
        "  print(i) # Stop iteration is already handled in loop \n",
        "\n",
        "# list comprehension\n",
        "print([i*i for i in l])\n",
        "\n",
        "# map, filter, reduce\n",
        "from functools import reduce\n",
        "\n",
        "\n",
        "print(list(map(lambda x:x*2,l)))\n",
        "print(list(filter(lambda x:x%2 == 0, l)))\n",
        "print(reduce(lambda x, y: x+y,l) )\n",
        "\n",
        "# generators\n",
        "# iterators\n",
        "\n",
        "\n",
        "def func1(list1):\n",
        "  if i == 1:\n",
        "    return 1\n",
        "\n",
        "\n",
        "def func1(list1):\n",
        "  for i in list1:\n",
        "    yield i \n",
        "    yield i*i\n",
        "\n",
        "for i in func1(l):\n",
        "  print(i)\n",
        "\n",
        "# zip \n",
        "f = ['a', 'b', 'c']\n",
        "s = [1,2,3]\n",
        "print(list(zip(f,s))) # list of tuples\n",
        "print(dict(zip(f,s)))\n",
        "\n",
        "if __name__ == '__main__':\n",
        "  print(func('a','b','c',input='a', output='b'))"
      ],
      "metadata": {
        "colab": {
          "base_uri": "https://localhost:8080/"
        },
        "id": "dF9w7pLznuNn",
        "outputId": "866f48e9-8fd3-4ced-9fe5-fbffe88a5eb1"
      },
      "execution_count": 46,
      "outputs": [
        {
          "output_type": "stream",
          "name": "stdout",
          "text": [
            "0\n",
            "a\n",
            "1\n",
            "b\n",
            "1\n",
            "here\n",
            "2\n",
            "3\n",
            "4\n",
            "5\n",
            "6\n",
            "7\n",
            "8\n",
            "[1, 4, 9, 16, 25, 36, 49, 64]\n",
            "[2, 4, 6, 8, 10, 12, 14, 16]\n",
            "[2, 4, 6, 8]\n",
            "36\n",
            "1\n",
            "1\n",
            "2\n",
            "4\n",
            "3\n",
            "9\n",
            "4\n",
            "16\n",
            "5\n",
            "25\n",
            "6\n",
            "36\n",
            "7\n",
            "49\n",
            "8\n",
            "64\n",
            "[('a', 1), ('b', 2), ('c', 3)]\n",
            "{'a': 1, 'b': 2, 'c': 3}\n",
            "('a', 'b', 'c')\n",
            "{'input': 'a', 'output': 'b'}\n",
            "None\n"
          ]
        }
      ]
    },
    {
      "cell_type": "code",
      "source": [
        "\n",
        "# try, else, finally\n",
        "def func():\n",
        "  try:\n",
        "    print('Inside try block')\n",
        "    a = 1/0\n",
        "  except Exception as e:\n",
        "    print(e)\n",
        "    print('inside Exception')\n",
        "  else:\n",
        "    print(\"Contents here will be printed if the program doesn't go to exception block\")\n",
        "  finally:\n",
        "    print('Inside the finally block')\n",
        "\n",
        "\n",
        "func()"
      ],
      "metadata": {
        "id": "FdRDk8MmMsSG"
      },
      "execution_count": null,
      "outputs": []
    },
    {
      "cell_type": "code",
      "source": [
        "# exception handling\n",
        "class SaiException(Exception):\n",
        "  print('Hi here')\n",
        "\n",
        "def learn_exception(a):\n",
        "  try:\n",
        "    if a == 1:\n",
        "      raise SaiException\n",
        "    else:\n",
        "      print('hi')\n",
        "  except SaiException as e:\n",
        "    print(e)\n",
        "    print('inside Except bloack')\n",
        "\n",
        "# try, else, finally\n",
        "def func():\n",
        "  try:\n",
        "    print('Inside try block')\n",
        "    a = 1/0\n",
        "  except Exception as e:\n",
        "    print(e)\n",
        "    print('inside Exception')\n",
        "  else:\n",
        "    print(\"Contents here will be printed if the program doesn't go to exception block\")\n",
        "  finally:\n",
        "    print('Inside the finally block')\n",
        "\n",
        "\n",
        "# assert\n",
        "def test_something():\n",
        "  # there are more packages like pytest and unittest\n",
        "  assert 1+1 == 2\n",
        "  #assert 1+1 == 1\n",
        "\n",
        "# decorators\n",
        "# this is used to enhance the function feature from outside\n",
        "# calling one function from another function\n",
        "\n",
        "import sys\n",
        "def udf_exception(call_method):\n",
        "  def exception_method(*args, **kwargs):\n",
        "    try:\n",
        "      print(' Inside decorator')\n",
        "      a = call_method(*args, **kwargs)\n",
        "    except:\n",
        "      print (e)\n",
        "      sys.exit(1)\n",
        "    return a\n",
        "  return exception_method\n",
        "\n",
        "@udf_exception\n",
        "def hi_hello():\n",
        "  a = 1 + 1\n",
        "  return a\n",
        "\n",
        "# is vs ==\n",
        "a = [1,2,3]\n",
        "b = a\n",
        "c = [1,2,3]\n",
        "print(a == b) # true\n",
        "print(a is b) # true\n",
        "print(a == c) # true\n",
        "print(a is c) # false . it compares id\n",
        "\n",
        "# eval\n",
        "print('eval')\n",
        "print(eval('1+1'))\n",
        "print(eval('a+b',{'a':1, 'b':2}))\n",
        "\n",
        "# logging\n",
        "import logging\n",
        "logger = logging.getLogger(__name__)\n",
        "logger.info('Hi hello')\n",
        "logger.warning('Warning')\n",
        "logger.error('Error')\n",
        "logger.critical('Critical')\n",
        "\n",
        "# Hashing \n",
        "import base64\n",
        "a='sai prashanth t s'\n",
        "b = base64.b64encode(a.encode('utf-8'))\n",
        "print(b)\n",
        "print(base64.b64decode(b))\n",
        "\n",
        "# we can use other things like hashlib as well\n",
        "\n",
        "# modules and classes\n",
        "# we can have udf modules\n",
        "\n",
        "if __name__ =='__main__':\n",
        "  learn_exception(1)\n",
        "  func()\n",
        "  test_something()\n",
        "  print(hi_hello())"
      ],
      "metadata": {
        "colab": {
          "base_uri": "https://localhost:8080/"
        },
        "id": "Qix8WeTtw-a2",
        "outputId": "79d5b9e9-e483-44c4-ccc7-cf5a104912d8"
      },
      "execution_count": 67,
      "outputs": [
        {
          "output_type": "stream",
          "name": "stderr",
          "text": [
            "WARNING:__main__:Warning\n",
            "ERROR:__main__:Error\n",
            "CRITICAL:__main__:Critical\n"
          ]
        },
        {
          "output_type": "stream",
          "name": "stdout",
          "text": [
            "Hi here\n",
            "True\n",
            "True\n",
            "True\n",
            "False\n",
            "eval\n",
            "2\n",
            "3\n",
            "b'c2FpIHByYXNoYW50aCB0IHM='\n",
            "b'sai prashanth t s'\n",
            "\n",
            "inside Except bloack\n",
            "Inside try block\n",
            "Contents here will be printed if the program doesn't go to exception block\n",
            "Inside the finally block\n",
            " Inside decorator\n",
            "2\n"
          ]
        }
      ]
    },
    {
      "cell_type": "code",
      "source": [
        "# class\n",
        "\n",
        "class Parent:\n",
        "  CLASS_VARIABLE = 100\n",
        "  CLASS_VARIABLE_2 = 'sai'\n",
        "  def __init__(self, a, b, c):\n",
        "    self.a = a\n",
        "    self.b = b\n",
        "    self.__c = c\n",
        "\n",
        "  @classmethod\n",
        "  def class_Sai(cls):\n",
        "    print(cls.CLASS_VARIABLE_2)\n",
        "    cls.CLASS_VARIABLE += 1\n",
        "    print(cls.CLASS_VARIABLE)\n",
        "\n",
        "  @staticmethod\n",
        "  def standalone_fn():\n",
        "    print('Inside Standalone function')\n",
        "\n",
        "  def instance_method(self):\n",
        "    print('inside CLass Parent 1')\n",
        "\n",
        "class Parent2:\n",
        "\n",
        "  def instance_method(self):\n",
        "    print('inside CLass Parent 1')\n",
        "\n",
        "class Child(Parent, Parent2):\n",
        "  def __init__(self, a, b, c,d,e):\n",
        "    super().__init__(a, b, c)\n",
        "    self.d = d\n",
        "    self.e = e\n",
        "\n",
        "  def instance_method(self):\n",
        "    super().instance_method()\n",
        "    print('here')\n",
        "\n",
        "\n",
        "p = Parent(1,2,3)\n",
        "print(dir(p))\n",
        "print(vars(p))\n",
        "# print(help(p))\n",
        "print(p.a)\n",
        "print(p.b)\n",
        "#print(p.__c) \n",
        "print(p._Parent__c)\n",
        "p.class_Sai()\n",
        "\n",
        "\n",
        "q = Parent(1,2,3)\n",
        "print(dir(q))\n",
        "print(vars(q))\n",
        "# print(help(q))\n",
        "print(q.a)\n",
        "print(q.b)\n",
        "#print(q.__c) \n",
        "print(q._Parent__c)\n",
        "q.class_Sai()\n",
        "\n",
        "c = Child(1,2,3,4,5)\n",
        "print(c.instance_method())"
      ],
      "metadata": {
        "colab": {
          "base_uri": "https://localhost:8080/"
        },
        "id": "_gUVDHXY0Kes",
        "outputId": "bf1f83c4-4095-49bb-fb9b-4fd6e4d412e9"
      },
      "execution_count": 81,
      "outputs": [
        {
          "output_type": "stream",
          "name": "stdout",
          "text": [
            "['CLASS_VARIABLE', 'CLASS_VARIABLE_2', '_Parent__c', '__class__', '__delattr__', '__dict__', '__dir__', '__doc__', '__eq__', '__format__', '__ge__', '__getattribute__', '__gt__', '__hash__', '__init__', '__init_subclass__', '__le__', '__lt__', '__module__', '__ne__', '__new__', '__reduce__', '__reduce_ex__', '__repr__', '__setattr__', '__sizeof__', '__str__', '__subclasshook__', '__weakref__', 'a', 'b', 'class_Sai', 'instance_method', 'standalone_fn']\n",
            "{'a': 1, 'b': 2, '_Parent__c': 3}\n",
            "1\n",
            "2\n",
            "3\n",
            "sai\n",
            "101\n",
            "['CLASS_VARIABLE', 'CLASS_VARIABLE_2', '_Parent__c', '__class__', '__delattr__', '__dict__', '__dir__', '__doc__', '__eq__', '__format__', '__ge__', '__getattribute__', '__gt__', '__hash__', '__init__', '__init_subclass__', '__le__', '__lt__', '__module__', '__ne__', '__new__', '__reduce__', '__reduce_ex__', '__repr__', '__setattr__', '__sizeof__', '__str__', '__subclasshook__', '__weakref__', 'a', 'b', 'class_Sai', 'instance_method', 'standalone_fn']\n",
            "{'a': 1, 'b': 2, '_Parent__c': 3}\n",
            "1\n",
            "2\n",
            "3\n",
            "sai\n",
            "102\n",
            "inside CLass Parent 1\n",
            "here\n",
            "None\n"
          ]
        }
      ]
    },
    {
      "cell_type": "code",
      "source": [
        "# Numpy\n",
        "\n",
        "a = [[1,2,3] , [4,5,6], [7,8,9] , [10,11,12]]\n",
        "import numpy as np\n",
        "arr = np.array(a)\n",
        "print(arr)\n",
        "print(arr.shape)\n",
        "print(arr.reshape(3,4))\n",
        "\n",
        "arr = np.array([1,2,3,4])\n",
        "print(arr[3])\n",
        "print(arr[2:])\n",
        "print(arr+1) # adds to all the element\n",
        "\n",
        "# Broadcasting\n",
        "arr = np.array([1,2,3,4])\n",
        "arr2 = arr\n",
        "arr2[2] = 5\n",
        "print(arr2)\n",
        "print(arr)\n",
        "# to avoid this use .copy()\n",
        "arr = np.array([1,2,3,4])\n",
        "arr3 = arr.copy()\n",
        "arr3[2] = 5\n",
        "print(arr3)\n",
        "print(arr)\n",
        "\n",
        "print(arr< 3)\n",
        "print(arr[(arr<2) & (arr == 1)])\n",
        "\n",
        "np.zeros(5)\n",
        "np.zeros((5,5))\n",
        "\n",
        "np.ones(5)\n",
        "np.ones((5,5))\n",
        "\n",
        "np.eye(5)\n",
        "\n",
        "print(np.random.rand(5,5)) # uniform dist (0,1]\n",
        "\n",
        "print(np.random.randn(5,5)) # normal distribution\n",
        "\n",
        "print(np.random.randint(1,100,10)) "
      ],
      "metadata": {
        "colab": {
          "base_uri": "https://localhost:8080/"
        },
        "id": "gX0WXH8t4G0P",
        "outputId": "01eb7a57-c102-404d-a65a-53d019807b57"
      },
      "execution_count": 112,
      "outputs": [
        {
          "output_type": "stream",
          "name": "stdout",
          "text": [
            "[[ 1  2  3]\n",
            " [ 4  5  6]\n",
            " [ 7  8  9]\n",
            " [10 11 12]]\n",
            "(4, 3)\n",
            "[[ 1  2  3  4]\n",
            " [ 5  6  7  8]\n",
            " [ 9 10 11 12]]\n",
            "4\n",
            "[3 4]\n",
            "[2 3 4 5]\n",
            "[1 2 5 4]\n",
            "[1 2 5 4]\n",
            "[1 2 5 4]\n",
            "[1 2 3 4]\n",
            "[ True  True False False]\n",
            "[1]\n",
            "[[0.14957919 0.77123152 0.68884316 0.93919518 0.99267764]\n",
            " [0.6668267  0.88111307 0.74414571 0.4513108  0.03080271]\n",
            " [0.87226826 0.4301321  0.26666553 0.2254343  0.95620845]\n",
            " [0.05475551 0.61708676 0.43190077 0.02296663 0.21258393]\n",
            " [0.58709629 0.04350173 0.05337336 0.61046729 0.90263341]]\n",
            "[[ 1.58679888 -0.10414459  0.1028262   0.43933413  0.88898679]\n",
            " [-0.94483741  1.64578668  1.40026321  0.08552729  0.87258385]\n",
            " [ 0.93229021 -0.04284813  0.9386792  -0.67758582  0.90884157]\n",
            " [-0.83105531 -1.16220923 -0.95754753  1.32490747  0.8564551 ]\n",
            " [ 0.67330684  0.43422847  1.17210553  0.26112831 -0.02558863]]\n",
            "[70 83 78 96 98 41 85 76 68  6]\n"
          ]
        }
      ]
    },
    {
      "cell_type": "code",
      "source": [
        "# Pandas\n",
        "import pandas as pd\n",
        "d = {'a': [1,2,3], 'b': [4,5,6], 'c':[7,8,np.nan]}\n",
        "df = pd.DataFrame(d, index=['r1', 'r2', 'r3'])\n",
        "print(df.head())\n",
        "print(df.shape)\n",
        "print(df.count()) # counts not null\n",
        "print(len(df))\n",
        "print(df.loc['r1'])\n",
        "print(df[['a', 'b']])\n",
        "print(df.iloc[0:2,0:2])\n",
        "\n",
        "import seaborn as sns\n",
        "df =sns.load_dataset('tips')\n",
        "print(df.head())"
      ],
      "metadata": {
        "colab": {
          "base_uri": "https://localhost:8080/"
        },
        "id": "zeraffoK4KV5",
        "outputId": "fc03da5d-2621-43f5-8036-bdf591eade5d"
      },
      "execution_count": 124,
      "outputs": [
        {
          "output_type": "stream",
          "name": "stdout",
          "text": [
            "    a  b    c\n",
            "r1  1  4  7.0\n",
            "r2  2  5  8.0\n",
            "r3  3  6  NaN\n",
            "(3, 3)\n",
            "a    3\n",
            "b    3\n",
            "c    2\n",
            "dtype: int64\n",
            "3\n",
            "a    1.0\n",
            "b    4.0\n",
            "c    7.0\n",
            "Name: r1, dtype: float64\n",
            "    a  b\n",
            "r1  1  4\n",
            "r2  2  5\n",
            "r3  3  6\n",
            "    a  b\n",
            "r1  1  4\n",
            "r2  2  5\n",
            "   total_bill   tip     sex smoker  day    time  size\n",
            "0       16.99  1.01  Female     No  Sun  Dinner     2\n",
            "1       10.34  1.66    Male     No  Sun  Dinner     3\n",
            "2       21.01  3.50    Male     No  Sun  Dinner     3\n",
            "3       23.68  3.31    Male     No  Sun  Dinner     2\n",
            "4       24.59  3.61  Female     No  Sun  Dinner     4\n"
          ]
        }
      ]
    },
    {
      "cell_type": "code",
      "source": [
        "import seaborn as sns\n",
        "df =sns.load_dataset('tips')\n",
        "print(df.head())\n",
        "\n",
        "print(df.columns)\n",
        "\n",
        "print(df['time'].value_counts())\n",
        "print(df['sex'].unique())\n",
        "print(df['sex'].nunique())\n",
        "print(df.info())\n",
        "print(df.describe())\n",
        "df.drop(['size'], axis = 1, inplace=True)\n",
        "print(df.columns)\n",
        "df.rename(columns = {'time':'udf_time'}, inplace=True)\n",
        "print(df.head())\n",
        "df.isnull().sum() # no of null values present in each column\n",
        "\n",
        "print('filtering')\n",
        "print(df[(df['sex'] == 'Male')])\n",
        "print(df[(df['sex'].str.lower().str.strip() == 'male') & (df['smoker'].str.lower().str.slice(0,2) == 'no')])\n",
        "\n",
        "print('sorting')\n",
        "print(df.sort_values(by=['sex', 'smoker', 'tip'], ascending=[False, False, True]))\n",
        "\n",
        "df ['smoker_value'] = df['smoker'].map({'No':'No_ Value', 'Yes': 'Yes_value'})\n",
        "\n",
        "print(df.head())\n",
        "print(df.groupby('sex').count()['total_bill'])\n",
        "\n",
        "\n",
        "print(df.groupby('sex').sum()['total_bill'])"
      ],
      "metadata": {
        "colab": {
          "base_uri": "https://localhost:8080/"
        },
        "id": "ZJxwRJnA9mOk",
        "outputId": "8de04060-9c7e-49f6-d4dc-f68440258c9a"
      },
      "execution_count": 184,
      "outputs": [
        {
          "output_type": "stream",
          "name": "stdout",
          "text": [
            "   total_bill   tip     sex smoker  day    time  size\n",
            "0       16.99  1.01  Female     No  Sun  Dinner     2\n",
            "1       10.34  1.66    Male     No  Sun  Dinner     3\n",
            "2       21.01  3.50    Male     No  Sun  Dinner     3\n",
            "3       23.68  3.31    Male     No  Sun  Dinner     2\n",
            "4       24.59  3.61  Female     No  Sun  Dinner     4\n",
            "Index(['total_bill', 'tip', 'sex', 'smoker', 'day', 'time', 'size'], dtype='object')\n",
            "Dinner    176\n",
            "Lunch      68\n",
            "Name: time, dtype: int64\n",
            "['Female', 'Male']\n",
            "Categories (2, object): ['Male', 'Female']\n",
            "2\n",
            "<class 'pandas.core.frame.DataFrame'>\n",
            "RangeIndex: 244 entries, 0 to 243\n",
            "Data columns (total 7 columns):\n",
            " #   Column      Non-Null Count  Dtype   \n",
            "---  ------      --------------  -----   \n",
            " 0   total_bill  244 non-null    float64 \n",
            " 1   tip         244 non-null    float64 \n",
            " 2   sex         244 non-null    category\n",
            " 3   smoker      244 non-null    category\n",
            " 4   day         244 non-null    category\n",
            " 5   time        244 non-null    category\n",
            " 6   size        244 non-null    int64   \n",
            "dtypes: category(4), float64(2), int64(1)\n",
            "memory usage: 7.4 KB\n",
            "None\n",
            "       total_bill         tip        size\n",
            "count  244.000000  244.000000  244.000000\n",
            "mean    19.785943    2.998279    2.569672\n",
            "std      8.902412    1.383638    0.951100\n",
            "min      3.070000    1.000000    1.000000\n",
            "25%     13.347500    2.000000    2.000000\n",
            "50%     17.795000    2.900000    2.000000\n",
            "75%     24.127500    3.562500    3.000000\n",
            "max     50.810000   10.000000    6.000000\n",
            "Index(['total_bill', 'tip', 'sex', 'smoker', 'day', 'time'], dtype='object')\n",
            "   total_bill   tip     sex smoker  day udf_time\n",
            "0       16.99  1.01  Female     No  Sun   Dinner\n",
            "1       10.34  1.66    Male     No  Sun   Dinner\n",
            "2       21.01  3.50    Male     No  Sun   Dinner\n",
            "3       23.68  3.31    Male     No  Sun   Dinner\n",
            "4       24.59  3.61  Female     No  Sun   Dinner\n",
            "filtering\n",
            "     total_bill   tip   sex smoker  day udf_time\n",
            "1         10.34  1.66  Male     No  Sun   Dinner\n",
            "2         21.01  3.50  Male     No  Sun   Dinner\n",
            "3         23.68  3.31  Male     No  Sun   Dinner\n",
            "5         25.29  4.71  Male     No  Sun   Dinner\n",
            "6          8.77  2.00  Male     No  Sun   Dinner\n",
            "..          ...   ...   ...    ...  ...      ...\n",
            "236       12.60  1.00  Male    Yes  Sat   Dinner\n",
            "237       32.83  1.17  Male    Yes  Sat   Dinner\n",
            "239       29.03  5.92  Male     No  Sat   Dinner\n",
            "241       22.67  2.00  Male    Yes  Sat   Dinner\n",
            "242       17.82  1.75  Male     No  Sat   Dinner\n",
            "\n",
            "[157 rows x 6 columns]\n",
            "     total_bill   tip   sex smoker  day udf_time\n",
            "1         10.34  1.66  Male     No  Sun   Dinner\n",
            "2         21.01  3.50  Male     No  Sun   Dinner\n",
            "3         23.68  3.31  Male     No  Sun   Dinner\n",
            "5         25.29  4.71  Male     No  Sun   Dinner\n",
            "6          8.77  2.00  Male     No  Sun   Dinner\n",
            "..          ...   ...   ...    ...  ...      ...\n",
            "232       11.61  3.39  Male     No  Sat   Dinner\n",
            "233       10.77  1.47  Male     No  Sat   Dinner\n",
            "235       10.07  1.25  Male     No  Sat   Dinner\n",
            "239       29.03  5.92  Male     No  Sat   Dinner\n",
            "242       17.82  1.75  Male     No  Sat   Dinner\n",
            "\n",
            "[97 rows x 6 columns]\n",
            "sorting\n",
            "     total_bill    tip     sex smoker   day udf_time\n",
            "111        7.25   1.00  Female     No   Sat   Dinner\n",
            "0         16.99   1.01  Female     No   Sun   Dinner\n",
            "135        8.51   1.25  Female     No  Thur    Lunch\n",
            "146       18.64   1.36  Female     No  Thur    Lunch\n",
            "57        26.41   1.50  Female     No   Sat   Dinner\n",
            "..          ...    ...     ...    ...   ...      ...\n",
            "172        7.25   5.15    Male    Yes   Sun   Dinner\n",
            "211       25.89   5.16    Male    Yes   Sat   Dinner\n",
            "181       23.33   5.65    Male    Yes   Sun   Dinner\n",
            "183       23.17   6.50    Male    Yes   Sun   Dinner\n",
            "170       50.81  10.00    Male    Yes   Sat   Dinner\n",
            "\n",
            "[244 rows x 6 columns]\n",
            "   total_bill   tip     sex smoker  day udf_time smoker_value\n",
            "0       16.99  1.01  Female     No  Sun   Dinner    No_ Value\n",
            "1       10.34  1.66    Male     No  Sun   Dinner    No_ Value\n",
            "2       21.01  3.50    Male     No  Sun   Dinner    No_ Value\n",
            "3       23.68  3.31    Male     No  Sun   Dinner    No_ Value\n",
            "4       24.59  3.61  Female     No  Sun   Dinner    No_ Value\n",
            "sex\n",
            "Male      157\n",
            "Female     87\n",
            "Name: total_bill, dtype: int64\n",
            "sex\n",
            "Male      3256.82\n",
            "Female    1570.95\n",
            "Name: total_bill, dtype: float64\n"
          ]
        }
      ]
    },
    {
      "cell_type": "code",
      "source": [
        "!pip install pandasql"
      ],
      "metadata": {
        "colab": {
          "base_uri": "https://localhost:8080/"
        },
        "id": "6GIDRM3J-m_L",
        "outputId": "e9200c00-0e7c-4f87-94b1-00602f4a8321"
      },
      "execution_count": 133,
      "outputs": [
        {
          "output_type": "stream",
          "name": "stdout",
          "text": [
            "Looking in indexes: https://pypi.org/simple, https://us-python.pkg.dev/colab-wheels/public/simple/\n",
            "Collecting pandasql\n",
            "  Downloading pandasql-0.7.3.tar.gz (26 kB)\n",
            "Requirement already satisfied: numpy in /usr/local/lib/python3.7/dist-packages (from pandasql) (1.21.6)\n",
            "Requirement already satisfied: pandas in /usr/local/lib/python3.7/dist-packages (from pandasql) (1.3.5)\n",
            "Requirement already satisfied: sqlalchemy in /usr/local/lib/python3.7/dist-packages (from pandasql) (1.4.40)\n",
            "Requirement already satisfied: python-dateutil>=2.7.3 in /usr/local/lib/python3.7/dist-packages (from pandas->pandasql) (2.8.2)\n",
            "Requirement already satisfied: pytz>=2017.3 in /usr/local/lib/python3.7/dist-packages (from pandas->pandasql) (2022.2.1)\n",
            "Requirement already satisfied: six>=1.5 in /usr/local/lib/python3.7/dist-packages (from python-dateutil>=2.7.3->pandas->pandasql) (1.15.0)\n",
            "Requirement already satisfied: greenlet!=0.4.17 in /usr/local/lib/python3.7/dist-packages (from sqlalchemy->pandasql) (1.1.2)\n",
            "Requirement already satisfied: importlib-metadata in /usr/local/lib/python3.7/dist-packages (from sqlalchemy->pandasql) (4.12.0)\n",
            "Requirement already satisfied: typing-extensions>=3.6.4 in /usr/local/lib/python3.7/dist-packages (from importlib-metadata->sqlalchemy->pandasql) (4.1.1)\n",
            "Requirement already satisfied: zipp>=0.5 in /usr/local/lib/python3.7/dist-packages (from importlib-metadata->sqlalchemy->pandasql) (3.8.1)\n",
            "Building wheels for collected packages: pandasql\n",
            "  Building wheel for pandasql (setup.py) ... \u001b[?25l\u001b[?25hdone\n",
            "  Created wheel for pandasql: filename=pandasql-0.7.3-py3-none-any.whl size=26784 sha256=b75c64e0afe3a3bc0c67b065b13829da921b7df95838a71bc3420a23b4d87363\n",
            "  Stored in directory: /root/.cache/pip/wheels/5c/4b/ec/41f4e116c8053c3654e2c2a47c62b4fca34cc67ef7b55deb7f\n",
            "Successfully built pandasql\n",
            "Installing collected packages: pandasql\n",
            "Successfully installed pandasql-0.7.3\n"
          ]
        }
      ]
    },
    {
      "cell_type": "code",
      "source": [
        "# pandasql\n",
        "import pandasql as ps\n",
        "df =sns.load_dataset('tips')\n",
        "print(df.head())\n",
        "df2 = ps.sqldf(\"select *, 'abc' as dummy from df\")\n",
        "print(df2.head())"
      ],
      "metadata": {
        "colab": {
          "base_uri": "https://localhost:8080/"
        },
        "id": "mpCDqgxg-qNu",
        "outputId": "3ca14538-a80d-48de-a031-bc6304128db3"
      },
      "execution_count": 137,
      "outputs": [
        {
          "output_type": "stream",
          "name": "stdout",
          "text": [
            "   total_bill   tip     sex smoker  day    time  size\n",
            "0       16.99  1.01  Female     No  Sun  Dinner     2\n",
            "1       10.34  1.66    Male     No  Sun  Dinner     3\n",
            "2       21.01  3.50    Male     No  Sun  Dinner     3\n",
            "3       23.68  3.31    Male     No  Sun  Dinner     2\n",
            "4       24.59  3.61  Female     No  Sun  Dinner     4\n",
            "   total_bill   tip     sex smoker  day    time  size dummy\n",
            "0       16.99  1.01  Female     No  Sun  Dinner     2   abc\n",
            "1       10.34  1.66    Male     No  Sun  Dinner     3   abc\n",
            "2       21.01  3.50    Male     No  Sun  Dinner     3   abc\n",
            "3       23.68  3.31    Male     No  Sun  Dinner     2   abc\n",
            "4       24.59  3.61  Female     No  Sun  Dinner     4   abc\n"
          ]
        }
      ]
    },
    {
      "cell_type": "code",
      "source": [
        "# Matplotlib"
      ],
      "metadata": {
        "id": "zfSWvNtJ4IuT"
      },
      "execution_count": 69,
      "outputs": []
    },
    {
      "cell_type": "code",
      "source": [
        "# Seaborn\n",
        "\n",
        "df =sns.load_dataset('tips')\n",
        "\n",
        "# sns.heatmap(df.corr())\n",
        "\n",
        "# sns.distplot(df['total_bill'], kde = False)\n",
        "\n",
        "# sns.pairplot(df)\n",
        "\n",
        "#sns.jointplot(x = 'tip', y='total_bill', data = df)\n",
        "\n",
        "\n",
        "# sns.countplot(x = df['sex'])\n",
        "\n",
        "\n",
        "# sns.countplot(y = df['sex'])\n",
        "\n",
        "# sns.barplot(x = 'sex', y='tip', data = df)\n",
        "\n",
        "# sns.boxplot(x = 'sex', y='tip',hue='smoker', data = df)\n"
      ],
      "metadata": {
        "colab": {
          "base_uri": "https://localhost:8080/",
          "height": 296
        },
        "id": "7GdYxLy-4O88",
        "outputId": "50293b79-447a-4445-ce8a-b087f66453d5"
      },
      "execution_count": 154,
      "outputs": [
        {
          "output_type": "execute_result",
          "data": {
            "text/plain": [
              "<matplotlib.axes._subplots.AxesSubplot at 0x7fcb2ca7b850>"
            ]
          },
          "metadata": {},
          "execution_count": 154
        },
        {
          "output_type": "display_data",
          "data": {
            "text/plain": [
              "<Figure size 432x288 with 1 Axes>"
            ],
            "image/png": "[encoded data removed]"
          },
          "metadata": {
            "needs_background": "light"
          }
        }
      ]
    },
    {
      "cell_type": "code",
      "source": [
        "# SKlearn\n",
        "\n",
        "pd.get_dummies(df['sex'],drop_first = False)\n",
        "\n",
        "def fn(cols):\n",
        "  return cols[0] + cols[1]\n",
        "\n",
        "df['overall_bill'] = df[['total_bill', 'tip']].apply(fn, axis=1)\n",
        "df.head()\n",
        "\n",
        "print(len(df))\n",
        "df2 = pd.concat([df, df], axis = 1)\n",
        "print(df2.head())\n",
        "print(len(df2))"
      ],
      "metadata": {
        "colab": {
          "base_uri": "https://localhost:8080/"
        },
        "id": "uHd1OMnM4QPy",
        "outputId": "a211b57e-465e-4def-8e47-5343ce3777ea"
      },
      "execution_count": 163,
      "outputs": [
        {
          "output_type": "stream",
          "name": "stdout",
          "text": [
            "244\n",
            "   total_bill   tip     sex smoker  day    time  size  overall_bill  \\\n",
            "0       16.99  1.01  Female     No  Sun  Dinner     2         18.00   \n",
            "1       10.34  1.66    Male     No  Sun  Dinner     3         12.00   \n",
            "2       21.01  3.50    Male     No  Sun  Dinner     3         24.51   \n",
            "3       23.68  3.31    Male     No  Sun  Dinner     2         26.99   \n",
            "4       24.59  3.61  Female     No  Sun  Dinner     4         28.20   \n",
            "\n",
            "   total_bill   tip     sex smoker  day    time  size  overall_bill  \n",
            "0       16.99  1.01  Female     No  Sun  Dinner     2         18.00  \n",
            "1       10.34  1.66    Male     No  Sun  Dinner     3         12.00  \n",
            "2       21.01  3.50    Male     No  Sun  Dinner     3         24.51  \n",
            "3       23.68  3.31    Male     No  Sun  Dinner     2         26.99  \n",
            "4       24.59  3.61  Female     No  Sun  Dinner     4         28.20  \n",
            "244\n"
          ]
        }
      ]
    },
    {
      "cell_type": "code",
      "source": [
        "from  sqlalchemy import create_engine\n",
        "\n",
        "conn = create_engine('postgres:{username}:{pass}@{host}:{pass}/{db_name}')\n",
        "\n",
        "df = pd.read_sql('select * from tbl', con=conn)\n",
        "\n",
        "df.to_sql('new_table', index=False, con=conn)\n",
        "# Create connection, cursor and then execute queries using cursor( cur = conn.cursor()) # curr.execute('select * from table') \n",
        "#res = curr.fecthone(), curr.fetchall(), conn.commit() # curr.close() # conn.close()"
      ],
      "metadata": {
        "id": "ZwSXvB8IBKpb"
      },
      "execution_count": 164,
      "outputs": []
    },
    {
      "cell_type": "code",
      "source": [
        "df.to_csv('abc',index=False)\n",
        "\n",
        "# csv\n",
        "# json \n",
        "# excel\n",
        "# parquet"
      ],
      "metadata": {
        "id": "zPlN41FNByHS"
      },
      "execution_count": 165,
      "outputs": []
    }
  ]
}